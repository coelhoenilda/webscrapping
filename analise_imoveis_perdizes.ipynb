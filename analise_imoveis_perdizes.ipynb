{
  "nbformat": 4,
  "nbformat_minor": 0,
  "metadata": {
    "colab": {
      "name": "analise_imoveis_perdizes.ipynb",
      "provenance": [],
      "include_colab_link": true
    },
    "kernelspec": {
      "name": "python3",
      "display_name": "Python 3"
    },
    "language_info": {
      "name": "python"
    }
  },
  "cells": [
    {
      "cell_type": "markdown",
      "metadata": {
        "id": "view-in-github",
        "colab_type": "text"
      },
      "source": [
        "<a href=\"https://colab.research.google.com/github/coelhoenilda/webscrapping/blob/main/analise_imoveis_perdizes.ipynb\" target=\"_parent\"><img src=\"https://colab.research.google.com/assets/colab-badge.svg\" alt=\"Open In Colab\"/></a>"
      ]
    },
    {
      "cell_type": "markdown",
      "metadata": {
        "id": "kuXPonLpnbim"
      },
      "source": [
        "#Análise exploratoria dos dados imobiliarios\n"
      ]
    },
    {
      "cell_type": "markdown",
      "metadata": {
        "id": "ZKiOr3HNnl8k"
      },
      "source": [
        "## importando bibliotecas e dataset\n"
      ]
    },
    {
      "cell_type": "code",
      "metadata": {
        "id": "CRxon7rGnjDH"
      },
      "source": [
        "import pandas as pd\n",
        "import numpy as np\n",
        "import seaborn as sns\n",
        "import matplotlib.pyplot as plt\n"
      ],
      "execution_count": null,
      "outputs": []
    },
    {
      "cell_type": "markdown",
      "metadata": {
        "id": "vzHbY-lmwYnn"
      },
      "source": [
        "### incluindo os dados em csv em um dataframe "
      ]
    },
    {
      "cell_type": "code",
      "metadata": {
        "id": "AzBpDE2ToK_d"
      },
      "source": [
        "dataset = pd.read_csv('Datase_imoveis_2.csv',sep=';')"
      ],
      "execution_count": null,
      "outputs": []
    },
    {
      "cell_type": "code",
      "metadata": {
        "colab": {
          "base_uri": "https://localhost:8080/",
          "height": 412
        },
        "id": "H-lvw149oWoo",
        "outputId": "86eab95c-ea51-4740-f908-93521ab0c2f8"
      },
      "source": [
        "dataset"
      ],
      "execution_count": null,
      "outputs": [
        {
          "output_type": "execute_result",
          "data": {
            "text/html": [
              "<div>\n",
              "<style scoped>\n",
              "    .dataframe tbody tr th:only-of-type {\n",
              "        vertical-align: middle;\n",
              "    }\n",
              "\n",
              "    .dataframe tbody tr th {\n",
              "        vertical-align: top;\n",
              "    }\n",
              "\n",
              "    .dataframe thead th {\n",
              "        text-align: right;\n",
              "    }\n",
              "</style>\n",
              "<table border=\"1\" class=\"dataframe\">\n",
              "  <thead>\n",
              "    <tr style=\"text-align: right;\">\n",
              "      <th></th>\n",
              "      <th>endereco</th>\n",
              "      <th>valor</th>\n",
              "      <th>area</th>\n",
              "      <th>quartos</th>\n",
              "      <th>vagas</th>\n",
              "      <th>banheiros</th>\n",
              "      <th>pagina</th>\n",
              "    </tr>\n",
              "  </thead>\n",
              "  <tbody>\n",
              "    <tr>\n",
              "      <th>0</th>\n",
              "      <td>Rua Cayowaá, 1258 - Perdizes, São Paulo - SP</td>\n",
              "      <td>1010000.0</td>\n",
              "      <td>110</td>\n",
              "      <td>3</td>\n",
              "      <td>1</td>\n",
              "      <td>3</td>\n",
              "      <td>1</td>\n",
              "    </tr>\n",
              "    <tr>\n",
              "      <th>1</th>\n",
              "      <td>Rua Campevas, 238 - Perdizes, São Paulo - SP</td>\n",
              "      <td>0.0</td>\n",
              "      <td>106</td>\n",
              "      <td>2</td>\n",
              "      <td>1</td>\n",
              "      <td>4</td>\n",
              "      <td>1</td>\n",
              "    </tr>\n",
              "    <tr>\n",
              "      <th>2</th>\n",
              "      <td>Rua Apinajés, 931 - Perdizes, São Paulo - SP</td>\n",
              "      <td>760000.0</td>\n",
              "      <td>67</td>\n",
              "      <td>2</td>\n",
              "      <td>2</td>\n",
              "      <td>2</td>\n",
              "      <td>1</td>\n",
              "    </tr>\n",
              "    <tr>\n",
              "      <th>3</th>\n",
              "      <td>Rua Cardoso de Almeida, 978 - Perdizes, São Pa...</td>\n",
              "      <td>980000.0</td>\n",
              "      <td>117</td>\n",
              "      <td>3</td>\n",
              "      <td>1</td>\n",
              "      <td>4</td>\n",
              "      <td>1</td>\n",
              "    </tr>\n",
              "    <tr>\n",
              "      <th>4</th>\n",
              "      <td>Rua dos Caetés, 878 - Perdizes, São Paulo - SP</td>\n",
              "      <td>600000.0</td>\n",
              "      <td>70</td>\n",
              "      <td>2</td>\n",
              "      <td>1</td>\n",
              "      <td>2</td>\n",
              "      <td>1</td>\n",
              "    </tr>\n",
              "    <tr>\n",
              "      <th>...</th>\n",
              "      <td>...</td>\n",
              "      <td>...</td>\n",
              "      <td>...</td>\n",
              "      <td>...</td>\n",
              "      <td>...</td>\n",
              "      <td>...</td>\n",
              "      <td>...</td>\n",
              "    </tr>\n",
              "    <tr>\n",
              "      <th>3523</th>\n",
              "      <td>Rua Caiubi, 1188 - Perdizes, São Paulo - SP</td>\n",
              "      <td>7300.0</td>\n",
              "      <td>104</td>\n",
              "      <td>3</td>\n",
              "      <td>2</td>\n",
              "      <td>3</td>\n",
              "      <td>99</td>\n",
              "    </tr>\n",
              "    <tr>\n",
              "      <th>3524</th>\n",
              "      <td>Rua Caraíbas - Perdizes, São Paulo - SP</td>\n",
              "      <td>990000.0</td>\n",
              "      <td>105</td>\n",
              "      <td>3</td>\n",
              "      <td>1</td>\n",
              "      <td>3</td>\n",
              "      <td>99</td>\n",
              "    </tr>\n",
              "    <tr>\n",
              "      <th>3525</th>\n",
              "      <td>Rua Coronel Melo de Oliveira - Perdizes, São P...</td>\n",
              "      <td>1800000.0</td>\n",
              "      <td>143</td>\n",
              "      <td>3</td>\n",
              "      <td>4</td>\n",
              "      <td>5</td>\n",
              "      <td>99</td>\n",
              "    </tr>\n",
              "    <tr>\n",
              "      <th>3526</th>\n",
              "      <td>Avenida Antártica - Perdizes, São Paulo - SP</td>\n",
              "      <td>550000.0</td>\n",
              "      <td>106</td>\n",
              "      <td>3</td>\n",
              "      <td>0</td>\n",
              "      <td>2</td>\n",
              "      <td>99</td>\n",
              "    </tr>\n",
              "    <tr>\n",
              "      <th>3527</th>\n",
              "      <td>Perdizes, São Paulo - SP</td>\n",
              "      <td>2250000.0</td>\n",
              "      <td>214</td>\n",
              "      <td>4</td>\n",
              "      <td>2</td>\n",
              "      <td>3</td>\n",
              "      <td>99</td>\n",
              "    </tr>\n",
              "  </tbody>\n",
              "</table>\n",
              "<p>3528 rows × 7 columns</p>\n",
              "</div>"
            ],
            "text/plain": [
              "                                               endereco  ...  pagina\n",
              "0          Rua Cayowaá, 1258 - Perdizes, São Paulo - SP  ...       1\n",
              "1          Rua Campevas, 238 - Perdizes, São Paulo - SP  ...       1\n",
              "2          Rua Apinajés, 931 - Perdizes, São Paulo - SP  ...       1\n",
              "3     Rua Cardoso de Almeida, 978 - Perdizes, São Pa...  ...       1\n",
              "4        Rua dos Caetés, 878 - Perdizes, São Paulo - SP  ...       1\n",
              "...                                                 ...  ...     ...\n",
              "3523        Rua Caiubi, 1188 - Perdizes, São Paulo - SP  ...      99\n",
              "3524            Rua Caraíbas - Perdizes, São Paulo - SP  ...      99\n",
              "3525  Rua Coronel Melo de Oliveira - Perdizes, São P...  ...      99\n",
              "3526       Avenida Antártica - Perdizes, São Paulo - SP  ...      99\n",
              "3527                           Perdizes, São Paulo - SP  ...      99\n",
              "\n",
              "[3528 rows x 7 columns]"
            ]
          },
          "metadata": {
            "tags": []
          },
          "execution_count": 36
        }
      ]
    },
    {
      "cell_type": "markdown",
      "metadata": {
        "id": "g2K6g6ztskIS"
      },
      "source": [
        "###analisando os tipos de váriaveis"
      ]
    },
    {
      "cell_type": "code",
      "metadata": {
        "colab": {
          "base_uri": "https://localhost:8080/",
          "height": 262
        },
        "id": "6i_lJEifpA8C",
        "outputId": "91d6dc00-acbe-4778-e530-f98453636044"
      },
      "source": [
        "tipos_dados = pd.DataFrame(dataset.dtypes,columns=['Tipos de Dados'])\n",
        "tipos_dados.columns.name='Váriaveis'\n",
        "tipos_dados"
      ],
      "execution_count": null,
      "outputs": [
        {
          "output_type": "execute_result",
          "data": {
            "text/html": [
              "<div>\n",
              "<style scoped>\n",
              "    .dataframe tbody tr th:only-of-type {\n",
              "        vertical-align: middle;\n",
              "    }\n",
              "\n",
              "    .dataframe tbody tr th {\n",
              "        vertical-align: top;\n",
              "    }\n",
              "\n",
              "    .dataframe thead th {\n",
              "        text-align: right;\n",
              "    }\n",
              "</style>\n",
              "<table border=\"1\" class=\"dataframe\">\n",
              "  <thead>\n",
              "    <tr style=\"text-align: right;\">\n",
              "      <th>Váriaveis</th>\n",
              "      <th>Tipos de Dados</th>\n",
              "    </tr>\n",
              "  </thead>\n",
              "  <tbody>\n",
              "    <tr>\n",
              "      <th>endereco</th>\n",
              "      <td>object</td>\n",
              "    </tr>\n",
              "    <tr>\n",
              "      <th>valor</th>\n",
              "      <td>float64</td>\n",
              "    </tr>\n",
              "    <tr>\n",
              "      <th>area</th>\n",
              "      <td>int64</td>\n",
              "    </tr>\n",
              "    <tr>\n",
              "      <th>quartos</th>\n",
              "      <td>int64</td>\n",
              "    </tr>\n",
              "    <tr>\n",
              "      <th>vagas</th>\n",
              "      <td>int64</td>\n",
              "    </tr>\n",
              "    <tr>\n",
              "      <th>banheiros</th>\n",
              "      <td>int64</td>\n",
              "    </tr>\n",
              "    <tr>\n",
              "      <th>pagina</th>\n",
              "      <td>int64</td>\n",
              "    </tr>\n",
              "  </tbody>\n",
              "</table>\n",
              "</div>"
            ],
            "text/plain": [
              "Váriaveis Tipos de Dados\n",
              "endereco          object\n",
              "valor            float64\n",
              "area               int64\n",
              "quartos            int64\n",
              "vagas              int64\n",
              "banheiros          int64\n",
              "pagina             int64"
            ]
          },
          "metadata": {
            "tags": []
          },
          "execution_count": 37
        }
      ]
    },
    {
      "cell_type": "code",
      "metadata": {
        "colab": {
          "base_uri": "https://localhost:8080/"
        },
        "id": "OCUsTk9opezI",
        "outputId": "4073c822-0917-440a-9731-bf2ca8d1af43"
      },
      "source": [
        "print('A base de dados apresenta {} registros (imóveis) e {} variáveis'.format(dataset.shape[0],dataset.shape[1]))"
      ],
      "execution_count": null,
      "outputs": [
        {
          "output_type": "stream",
          "text": [
            "A base de dados apresenta 3528 registros (imóveis) e 7 variáveis\n"
          ],
          "name": "stdout"
        }
      ]
    },
    {
      "cell_type": "code",
      "metadata": {
        "id": "XHCkLYfdzvuP"
      },
      "source": [
        ""
      ],
      "execution_count": null,
      "outputs": []
    },
    {
      "cell_type": "markdown",
      "metadata": {
        "id": "FsOaBrzrzhkD"
      },
      "source": [
        "### Verificando a quantidade dados nulos"
      ]
    },
    {
      "cell_type": "code",
      "metadata": {
        "colab": {
          "base_uri": "https://localhost:8080/"
        },
        "id": "sDj4eW1Ox9ZD",
        "outputId": "512b73fb-84b7-4e58-d563-20aa1f0b2f7c"
      },
      "source": [
        "dataset.info()"
      ],
      "execution_count": null,
      "outputs": [
        {
          "output_type": "stream",
          "text": [
            "<class 'pandas.core.frame.DataFrame'>\n",
            "RangeIndex: 3528 entries, 0 to 3527\n",
            "Data columns (total 7 columns):\n",
            " #   Column     Non-Null Count  Dtype  \n",
            "---  ------     --------------  -----  \n",
            " 0   endereco   3528 non-null   object \n",
            " 1   valor      3528 non-null   float64\n",
            " 2   area       3528 non-null   int64  \n",
            " 3   quartos    3528 non-null   int64  \n",
            " 4   vagas      3528 non-null   int64  \n",
            " 5   banheiros  3528 non-null   int64  \n",
            " 6   pagina     3528 non-null   int64  \n",
            "dtypes: float64(1), int64(5), object(1)\n",
            "memory usage: 193.1+ KB\n"
          ],
          "name": "stdout"
        }
      ]
    },
    {
      "cell_type": "markdown",
      "metadata": {
        "id": "M95Q12hgz3KO"
      },
      "source": [
        "###** Não existe dados nulos no dataframe"
      ]
    },
    {
      "cell_type": "markdown",
      "metadata": {
        "id": "14wTGLvS1KUq"
      },
      "source": [
        "## Excluindo dados sem valor de area e valor\n",
        "\n",
        "###Como não existe um padrao de dados de inserção de dados na pagina onde foi feito o web scraping, alguns campos podem vir sem informação ou com informações erradas.\n",
        "### então para essa nálise descritiva vou excluir dados que não possuem area ou valor do imovel. "
      ]
    },
    {
      "cell_type": "code",
      "metadata": {
        "colab": {
          "base_uri": "https://localhost:8080/"
        },
        "id": "H7aTR_oJyIz4",
        "outputId": "6f8ba4fa-9b83-4f2c-de39-d3fd29017653"
      },
      "source": [
        "dados = dataset[(dataset['valor']!=0) & (dataset['area']!=0) ]\n",
        "dados.shape"
      ],
      "execution_count": null,
      "outputs": [
        {
          "output_type": "execute_result",
          "data": {
            "text/plain": [
              "(3256, 7)"
            ]
          },
          "metadata": {
            "tags": []
          },
          "execution_count": 40
        }
      ]
    },
    {
      "cell_type": "code",
      "metadata": {
        "colab": {
          "base_uri": "https://localhost:8080/"
        },
        "id": "TvBd5KT30PGR",
        "outputId": "892aca2d-b6aa-4618-f119-6cca54cf525c"
      },
      "source": [
        "dados.dtypes"
      ],
      "execution_count": null,
      "outputs": [
        {
          "output_type": "execute_result",
          "data": {
            "text/plain": [
              "endereco      object\n",
              "valor        float64\n",
              "area           int64\n",
              "quartos        int64\n",
              "vagas          int64\n",
              "banheiros      int64\n",
              "pagina         int64\n",
              "dtype: object"
            ]
          },
          "metadata": {
            "tags": []
          },
          "execution_count": 41
        }
      ]
    },
    {
      "cell_type": "code",
      "metadata": {
        "colab": {
          "base_uri": "https://localhost:8080/",
          "height": 201
        },
        "id": "EGg5ojlg2Aqs",
        "outputId": "882b76dd-7795-4ce7-ebe5-c331b8e22bf3"
      },
      "source": [
        "dados.head()"
      ],
      "execution_count": null,
      "outputs": [
        {
          "output_type": "execute_result",
          "data": {
            "text/html": [
              "<div>\n",
              "<style scoped>\n",
              "    .dataframe tbody tr th:only-of-type {\n",
              "        vertical-align: middle;\n",
              "    }\n",
              "\n",
              "    .dataframe tbody tr th {\n",
              "        vertical-align: top;\n",
              "    }\n",
              "\n",
              "    .dataframe thead th {\n",
              "        text-align: right;\n",
              "    }\n",
              "</style>\n",
              "<table border=\"1\" class=\"dataframe\">\n",
              "  <thead>\n",
              "    <tr style=\"text-align: right;\">\n",
              "      <th></th>\n",
              "      <th>endereco</th>\n",
              "      <th>valor</th>\n",
              "      <th>area</th>\n",
              "      <th>quartos</th>\n",
              "      <th>vagas</th>\n",
              "      <th>banheiros</th>\n",
              "      <th>pagina</th>\n",
              "    </tr>\n",
              "  </thead>\n",
              "  <tbody>\n",
              "    <tr>\n",
              "      <th>0</th>\n",
              "      <td>Rua Cayowaá, 1258 - Perdizes, São Paulo - SP</td>\n",
              "      <td>1010000.0</td>\n",
              "      <td>110</td>\n",
              "      <td>3</td>\n",
              "      <td>1</td>\n",
              "      <td>3</td>\n",
              "      <td>1</td>\n",
              "    </tr>\n",
              "    <tr>\n",
              "      <th>2</th>\n",
              "      <td>Rua Apinajés, 931 - Perdizes, São Paulo - SP</td>\n",
              "      <td>760000.0</td>\n",
              "      <td>67</td>\n",
              "      <td>2</td>\n",
              "      <td>2</td>\n",
              "      <td>2</td>\n",
              "      <td>1</td>\n",
              "    </tr>\n",
              "    <tr>\n",
              "      <th>3</th>\n",
              "      <td>Rua Cardoso de Almeida, 978 - Perdizes, São Pa...</td>\n",
              "      <td>980000.0</td>\n",
              "      <td>117</td>\n",
              "      <td>3</td>\n",
              "      <td>1</td>\n",
              "      <td>4</td>\n",
              "      <td>1</td>\n",
              "    </tr>\n",
              "    <tr>\n",
              "      <th>4</th>\n",
              "      <td>Rua dos Caetés, 878 - Perdizes, São Paulo - SP</td>\n",
              "      <td>600000.0</td>\n",
              "      <td>70</td>\n",
              "      <td>2</td>\n",
              "      <td>1</td>\n",
              "      <td>2</td>\n",
              "      <td>1</td>\n",
              "    </tr>\n",
              "    <tr>\n",
              "      <th>5</th>\n",
              "      <td>Rua Diana, 649 - Perdizes, São Paulo - SP</td>\n",
              "      <td>950000.0</td>\n",
              "      <td>105</td>\n",
              "      <td>3</td>\n",
              "      <td>1</td>\n",
              "      <td>3</td>\n",
              "      <td>1</td>\n",
              "    </tr>\n",
              "  </tbody>\n",
              "</table>\n",
              "</div>"
            ],
            "text/plain": [
              "                                            endereco  ...  pagina\n",
              "0       Rua Cayowaá, 1258 - Perdizes, São Paulo - SP  ...       1\n",
              "2       Rua Apinajés, 931 - Perdizes, São Paulo - SP  ...       1\n",
              "3  Rua Cardoso de Almeida, 978 - Perdizes, São Pa...  ...       1\n",
              "4     Rua dos Caetés, 878 - Perdizes, São Paulo - SP  ...       1\n",
              "5          Rua Diana, 649 - Perdizes, São Paulo - SP  ...       1\n",
              "\n",
              "[5 rows x 7 columns]"
            ]
          },
          "metadata": {
            "tags": []
          },
          "execution_count": 42
        }
      ]
    },
    {
      "cell_type": "markdown",
      "metadata": {
        "id": "rpF18ZD12IM7"
      },
      "source": [
        "## Criando uma nova váriavel\n",
        "###Para minha análise precisei criar a váriavel do valor por m²"
      ]
    },
    {
      "cell_type": "code",
      "metadata": {
        "colab": {
          "base_uri": "https://localhost:8080/",
          "height": 309
        },
        "id": "KM0ET06-1Xfp",
        "outputId": "a1220bc0-20d1-4f6c-a876-39a3440c45f6"
      },
      "source": [
        "dados['valor_m2']=(dados.valor/dados.area).round(0)\n",
        "dados.head()"
      ],
      "execution_count": null,
      "outputs": [
        {
          "output_type": "stream",
          "text": [
            "/usr/local/lib/python3.7/dist-packages/ipykernel_launcher.py:1: SettingWithCopyWarning: \n",
            "A value is trying to be set on a copy of a slice from a DataFrame.\n",
            "Try using .loc[row_indexer,col_indexer] = value instead\n",
            "\n",
            "See the caveats in the documentation: https://pandas.pydata.org/pandas-docs/stable/user_guide/indexing.html#returning-a-view-versus-a-copy\n",
            "  \"\"\"Entry point for launching an IPython kernel.\n"
          ],
          "name": "stderr"
        },
        {
          "output_type": "execute_result",
          "data": {
            "text/html": [
              "<div>\n",
              "<style scoped>\n",
              "    .dataframe tbody tr th:only-of-type {\n",
              "        vertical-align: middle;\n",
              "    }\n",
              "\n",
              "    .dataframe tbody tr th {\n",
              "        vertical-align: top;\n",
              "    }\n",
              "\n",
              "    .dataframe thead th {\n",
              "        text-align: right;\n",
              "    }\n",
              "</style>\n",
              "<table border=\"1\" class=\"dataframe\">\n",
              "  <thead>\n",
              "    <tr style=\"text-align: right;\">\n",
              "      <th></th>\n",
              "      <th>endereco</th>\n",
              "      <th>valor</th>\n",
              "      <th>area</th>\n",
              "      <th>quartos</th>\n",
              "      <th>vagas</th>\n",
              "      <th>banheiros</th>\n",
              "      <th>pagina</th>\n",
              "      <th>valor_m2</th>\n",
              "    </tr>\n",
              "  </thead>\n",
              "  <tbody>\n",
              "    <tr>\n",
              "      <th>0</th>\n",
              "      <td>Rua Cayowaá, 1258 - Perdizes, São Paulo - SP</td>\n",
              "      <td>1010000.0</td>\n",
              "      <td>110</td>\n",
              "      <td>3</td>\n",
              "      <td>1</td>\n",
              "      <td>3</td>\n",
              "      <td>1</td>\n",
              "      <td>9182.0</td>\n",
              "    </tr>\n",
              "    <tr>\n",
              "      <th>2</th>\n",
              "      <td>Rua Apinajés, 931 - Perdizes, São Paulo - SP</td>\n",
              "      <td>760000.0</td>\n",
              "      <td>67</td>\n",
              "      <td>2</td>\n",
              "      <td>2</td>\n",
              "      <td>2</td>\n",
              "      <td>1</td>\n",
              "      <td>11343.0</td>\n",
              "    </tr>\n",
              "    <tr>\n",
              "      <th>3</th>\n",
              "      <td>Rua Cardoso de Almeida, 978 - Perdizes, São Pa...</td>\n",
              "      <td>980000.0</td>\n",
              "      <td>117</td>\n",
              "      <td>3</td>\n",
              "      <td>1</td>\n",
              "      <td>4</td>\n",
              "      <td>1</td>\n",
              "      <td>8376.0</td>\n",
              "    </tr>\n",
              "    <tr>\n",
              "      <th>4</th>\n",
              "      <td>Rua dos Caetés, 878 - Perdizes, São Paulo - SP</td>\n",
              "      <td>600000.0</td>\n",
              "      <td>70</td>\n",
              "      <td>2</td>\n",
              "      <td>1</td>\n",
              "      <td>2</td>\n",
              "      <td>1</td>\n",
              "      <td>8571.0</td>\n",
              "    </tr>\n",
              "    <tr>\n",
              "      <th>5</th>\n",
              "      <td>Rua Diana, 649 - Perdizes, São Paulo - SP</td>\n",
              "      <td>950000.0</td>\n",
              "      <td>105</td>\n",
              "      <td>3</td>\n",
              "      <td>1</td>\n",
              "      <td>3</td>\n",
              "      <td>1</td>\n",
              "      <td>9048.0</td>\n",
              "    </tr>\n",
              "  </tbody>\n",
              "</table>\n",
              "</div>"
            ],
            "text/plain": [
              "                                            endereco  ...  valor_m2\n",
              "0       Rua Cayowaá, 1258 - Perdizes, São Paulo - SP  ...    9182.0\n",
              "2       Rua Apinajés, 931 - Perdizes, São Paulo - SP  ...   11343.0\n",
              "3  Rua Cardoso de Almeida, 978 - Perdizes, São Pa...  ...    8376.0\n",
              "4     Rua dos Caetés, 878 - Perdizes, São Paulo - SP  ...    8571.0\n",
              "5          Rua Diana, 649 - Perdizes, São Paulo - SP  ...    9048.0\n",
              "\n",
              "[5 rows x 8 columns]"
            ]
          },
          "metadata": {
            "tags": []
          },
          "execution_count": 43
        }
      ]
    },
    {
      "cell_type": "code",
      "metadata": {
        "id": "2NomWGLQ4VSx"
      },
      "source": [
        "del dados['pagina']"
      ],
      "execution_count": null,
      "outputs": []
    },
    {
      "cell_type": "markdown",
      "metadata": {
        "id": "zYi28DHZ5Ihu"
      },
      "source": [
        "#Estatística descritiva\n",
        "### na minha primeira análise cheguei até aqui,\n",
        "###calculei a média dos valores por metro quadrado\n",
        "###calculei e valor da proposta como a area construida do imovel\n",
        "###Levei em conta algums qualitativos, como a construção do metro a 150metro do imovel, e o tipo de imovel e sua localização.\n",
        "###Na data, eu sabia que existia os outliers que alteravam muito a média mas como não conhecia métodos de tratamente resolvi adotar aquele valor de média."
      ]
    },
    {
      "cell_type": "code",
      "metadata": {
        "colab": {
          "base_uri": "https://localhost:8080/",
          "height": 292
        },
        "id": "5oiAC0CR2guh",
        "outputId": "42b9992a-ce4c-4b0a-e66f-f2199b738636"
      },
      "source": [
        "dados[['valor','area','valor_m2']].describe().round(2)"
      ],
      "execution_count": null,
      "outputs": [
        {
          "output_type": "execute_result",
          "data": {
            "text/html": [
              "<div>\n",
              "<style scoped>\n",
              "    .dataframe tbody tr th:only-of-type {\n",
              "        vertical-align: middle;\n",
              "    }\n",
              "\n",
              "    .dataframe tbody tr th {\n",
              "        vertical-align: top;\n",
              "    }\n",
              "\n",
              "    .dataframe thead th {\n",
              "        text-align: right;\n",
              "    }\n",
              "</style>\n",
              "<table border=\"1\" class=\"dataframe\">\n",
              "  <thead>\n",
              "    <tr style=\"text-align: right;\">\n",
              "      <th></th>\n",
              "      <th>valor</th>\n",
              "      <th>area</th>\n",
              "      <th>valor_m2</th>\n",
              "    </tr>\n",
              "  </thead>\n",
              "  <tbody>\n",
              "    <tr>\n",
              "      <th>count</th>\n",
              "      <td>3256.00</td>\n",
              "      <td>3256.00</td>\n",
              "      <td>3256.00</td>\n",
              "    </tr>\n",
              "    <tr>\n",
              "      <th>mean</th>\n",
              "      <td>1563043.83</td>\n",
              "      <td>132.39</td>\n",
              "      <td>11200.54</td>\n",
              "    </tr>\n",
              "    <tr>\n",
              "      <th>std</th>\n",
              "      <td>1181517.20</td>\n",
              "      <td>62.66</td>\n",
              "      <td>3855.56</td>\n",
              "    </tr>\n",
              "    <tr>\n",
              "      <th>min</th>\n",
              "      <td>1700.00</td>\n",
              "      <td>18.00</td>\n",
              "      <td>17.00</td>\n",
              "    </tr>\n",
              "    <tr>\n",
              "      <th>25%</th>\n",
              "      <td>796500.00</td>\n",
              "      <td>89.00</td>\n",
              "      <td>8929.00</td>\n",
              "    </tr>\n",
              "    <tr>\n",
              "      <th>50%</th>\n",
              "      <td>1250000.00</td>\n",
              "      <td>119.00</td>\n",
              "      <td>10664.50</td>\n",
              "    </tr>\n",
              "    <tr>\n",
              "      <th>75%</th>\n",
              "      <td>2000000.00</td>\n",
              "      <td>172.25</td>\n",
              "      <td>13060.00</td>\n",
              "    </tr>\n",
              "    <tr>\n",
              "      <th>max</th>\n",
              "      <td>10314342.00</td>\n",
              "      <td>451.00</td>\n",
              "      <td>38413.00</td>\n",
              "    </tr>\n",
              "  </tbody>\n",
              "</table>\n",
              "</div>"
            ],
            "text/plain": [
              "             valor     area  valor_m2\n",
              "count      3256.00  3256.00   3256.00\n",
              "mean    1563043.83   132.39  11200.54\n",
              "std     1181517.20    62.66   3855.56\n",
              "min        1700.00    18.00     17.00\n",
              "25%      796500.00    89.00   8929.00\n",
              "50%     1250000.00   119.00  10664.50\n",
              "75%     2000000.00   172.25  13060.00\n",
              "max    10314342.00   451.00  38413.00"
            ]
          },
          "metadata": {
            "tags": []
          },
          "execution_count": 45
        }
      ]
    },
    {
      "cell_type": "code",
      "metadata": {
        "id": "XaeaZG_X2yw5"
      },
      "source": [
        "%matplotlib inline\n",
        "plt.rc('figure',figsize=(20,10))"
      ],
      "execution_count": null,
      "outputs": []
    },
    {
      "cell_type": "markdown",
      "metadata": {
        "id": "dV7EYMhg9AqA"
      },
      "source": [
        "#Identificando e removendo Outliers"
      ]
    },
    {
      "cell_type": "markdown",
      "metadata": {
        "id": "UWyS5qv59KYi"
      },
      "source": [
        "###Metodo Boxplot"
      ]
    },
    {
      "cell_type": "code",
      "metadata": {
        "colab": {
          "base_uri": "https://localhost:8080/",
          "height": 643
        },
        "id": "uPo-Wac3t47c",
        "outputId": "9cbae13e-cf31-4658-c5d2-3400d97eaf0b"
      },
      "source": [
        "dados.hist(['valor_m2'])"
      ],
      "execution_count": null,
      "outputs": [
        {
          "output_type": "execute_result",
          "data": {
            "text/plain": [
              "array([[<matplotlib.axes._subplots.AxesSubplot object at 0x7faab32517d0>]],\n",
              "      dtype=object)"
            ]
          },
          "metadata": {
            "tags": []
          },
          "execution_count": 47
        },
        {
          "output_type": "display_data",
          "data": {
            "image/png": "[encoded data removed]",
            "text/plain": [
              "<Figure size 1440x720 with 1 Axes>"
            ]
          },
          "metadata": {
            "tags": [],
            "needs_background": "light"
          }
        }
      ]
    },
    {
      "cell_type": "code",
      "metadata": {
        "colab": {
          "base_uri": "https://localhost:8080/",
          "height": 610
        },
        "id": "1NjO6PUr8B0A",
        "outputId": "16bf9c8a-c8c2-476c-f6eb-bc3c4b83b7e8"
      },
      "source": [
        "dados.boxplot(['valor_m2'])"
      ],
      "execution_count": null,
      "outputs": [
        {
          "output_type": "execute_result",
          "data": {
            "text/plain": [
              "<matplotlib.axes._subplots.AxesSubplot at 0x7faab317d090>"
            ]
          },
          "metadata": {
            "tags": []
          },
          "execution_count": 48
        },
        {
          "output_type": "display_data",
          "data": {
            "image/png": "[encoded data removed]",
            "text/plain": [
              "<Figure size 1440x720 with 1 Axes>"
            ]
          },
          "metadata": {
            "tags": [],
            "needs_background": "light"
          }
        }
      ]
    },
    {
      "cell_type": "code",
      "metadata": {
        "id": "ENZIyHh58Mu4"
      },
      "source": [
        "valor_m2 = dados.valor_m2"
      ],
      "execution_count": null,
      "outputs": []
    },
    {
      "cell_type": "code",
      "metadata": {
        "id": "GLNdJjU69lPS"
      },
      "source": [
        "Q1 = valor_m2.quantile(.25)\n",
        "Q3 = valor_m2.quantile(.75)\n",
        "IIQ = Q3-Q1\n",
        "limite_inferior = Q1 -1.5*IIQ\n",
        "limite_superior = Q3 +1.5*IIQ"
      ],
      "execution_count": null,
      "outputs": []
    },
    {
      "cell_type": "code",
      "metadata": {
        "id": "JpTYkqnG-72y"
      },
      "source": [
        "selecao = (valor_m2 >= limite_inferior)&(valor_m2<=limite_superior)\n",
        "dados_s_out = dados[selecao]"
      ],
      "execution_count": null,
      "outputs": []
    },
    {
      "cell_type": "code",
      "metadata": {
        "colab": {
          "base_uri": "https://localhost:8080/",
          "height": 610
        },
        "id": "LwpdmcRt_O9p",
        "outputId": "2e76767f-8be1-4c28-d48d-233f3a435336"
      },
      "source": [
        "dados_s_out.boxplot(['valor_m2'])"
      ],
      "execution_count": null,
      "outputs": [
        {
          "output_type": "execute_result",
          "data": {
            "text/plain": [
              "<matplotlib.axes._subplots.AxesSubplot at 0x7faab312a490>"
            ]
          },
          "metadata": {
            "tags": []
          },
          "execution_count": 52
        },
        {
          "output_type": "display_data",
          "data": {
            "image/png": "[encoded data removed]",
            "text/plain": [
              "<Figure size 1440x720 with 1 Axes>"
            ]
          },
          "metadata": {
            "tags": [],
            "needs_background": "light"
          }
        }
      ]
    },
    {
      "cell_type": "markdown",
      "metadata": {
        "id": "njcebz6h3FFf"
      },
      "source": [
        "##Salvando os dados sem outliers"
      ]
    },
    {
      "cell_type": "code",
      "metadata": {
        "id": "nnaSyKVI_ZbF"
      },
      "source": [
        "dados_s_out.to_csv('dados_s_out.csv',sep=';',index=False)"
      ],
      "execution_count": null,
      "outputs": []
    },
    {
      "cell_type": "code",
      "metadata": {
        "colab": {
          "base_uri": "https://localhost:8080/",
          "height": 643
        },
        "id": "zJgI1FV6_qnb",
        "outputId": "d0db9063-e911-4e61-e9f9-b396a8d84225"
      },
      "source": [
        "dados_s_out.hist(['valor_m2'])"
      ],
      "execution_count": null,
      "outputs": [
        {
          "output_type": "execute_result",
          "data": {
            "text/plain": [
              "array([[<matplotlib.axes._subplots.AxesSubplot object at 0x7faab30a0610>]],\n",
              "      dtype=object)"
            ]
          },
          "metadata": {
            "tags": []
          },
          "execution_count": 54
        },
        {
          "output_type": "display_data",
          "data": {
            "image/png": "[encoded data removed]",
            "text/plain": [
              "<Figure size 1440x720 with 1 Axes>"
            ]
          },
          "metadata": {
            "tags": [],
            "needs_background": "light"
          }
        }
      ]
    },
    {
      "cell_type": "code",
      "metadata": {
        "colab": {
          "base_uri": "https://localhost:8080/",
          "height": 292
        },
        "id": "oeYYMAMZ_6Xy",
        "outputId": "6645c85c-c5bf-4083-80ed-071967022d06"
      },
      "source": [
        "dados_s_out[['valor','area','valor_m2']].describe()"
      ],
      "execution_count": null,
      "outputs": [
        {
          "output_type": "execute_result",
          "data": {
            "text/html": [
              "<div>\n",
              "<style scoped>\n",
              "    .dataframe tbody tr th:only-of-type {\n",
              "        vertical-align: middle;\n",
              "    }\n",
              "\n",
              "    .dataframe tbody tr th {\n",
              "        vertical-align: top;\n",
              "    }\n",
              "\n",
              "    .dataframe thead th {\n",
              "        text-align: right;\n",
              "    }\n",
              "</style>\n",
              "<table border=\"1\" class=\"dataframe\">\n",
              "  <thead>\n",
              "    <tr style=\"text-align: right;\">\n",
              "      <th></th>\n",
              "      <th>valor</th>\n",
              "      <th>area</th>\n",
              "      <th>valor_m2</th>\n",
              "    </tr>\n",
              "  </thead>\n",
              "  <tbody>\n",
              "    <tr>\n",
              "      <th>count</th>\n",
              "      <td>3.044000e+03</td>\n",
              "      <td>3044.000000</td>\n",
              "      <td>3044.000000</td>\n",
              "    </tr>\n",
              "    <tr>\n",
              "      <th>mean</th>\n",
              "      <td>1.453098e+06</td>\n",
              "      <td>128.999671</td>\n",
              "      <td>10914.934297</td>\n",
              "    </tr>\n",
              "    <tr>\n",
              "      <th>std</th>\n",
              "      <td>8.851847e+05</td>\n",
              "      <td>58.886404</td>\n",
              "      <td>2726.816881</td>\n",
              "    </tr>\n",
              "    <tr>\n",
              "      <th>min</th>\n",
              "      <td>1.680000e+05</td>\n",
              "      <td>18.000000</td>\n",
              "      <td>3337.000000</td>\n",
              "    </tr>\n",
              "    <tr>\n",
              "      <th>25%</th>\n",
              "      <td>8.000000e+05</td>\n",
              "      <td>85.750000</td>\n",
              "      <td>8968.500000</td>\n",
              "    </tr>\n",
              "    <tr>\n",
              "      <th>50%</th>\n",
              "      <td>1.200000e+06</td>\n",
              "      <td>117.000000</td>\n",
              "      <td>10497.500000</td>\n",
              "    </tr>\n",
              "    <tr>\n",
              "      <th>75%</th>\n",
              "      <td>1.950000e+06</td>\n",
              "      <td>167.000000</td>\n",
              "      <td>12658.000000</td>\n",
              "    </tr>\n",
              "    <tr>\n",
              "      <th>max</th>\n",
              "      <td>7.200000e+06</td>\n",
              "      <td>451.000000</td>\n",
              "      <td>19034.000000</td>\n",
              "    </tr>\n",
              "  </tbody>\n",
              "</table>\n",
              "</div>"
            ],
            "text/plain": [
              "              valor         area      valor_m2\n",
              "count  3.044000e+03  3044.000000   3044.000000\n",
              "mean   1.453098e+06   128.999671  10914.934297\n",
              "std    8.851847e+05    58.886404   2726.816881\n",
              "min    1.680000e+05    18.000000   3337.000000\n",
              "25%    8.000000e+05    85.750000   8968.500000\n",
              "50%    1.200000e+06   117.000000  10497.500000\n",
              "75%    1.950000e+06   167.000000  12658.000000\n",
              "max    7.200000e+06   451.000000  19034.000000"
            ]
          },
          "metadata": {
            "tags": []
          },
          "execution_count": 55
        }
      ]
    },
    {
      "cell_type": "code",
      "metadata": {
        "id": "WveVvdipvBv-"
      },
      "source": [
        ""
      ],
      "execution_count": null,
      "outputs": []
    },
    {
      "cell_type": "markdown",
      "metadata": {
        "id": "Ajw4LbDz_-C2"
      },
      "source": [
        "\n",
        "#Explorando os demais dados\n",
        "##O numero de banheiros, quartos e garagens influenciam no valor do imovel?"
      ]
    },
    {
      "cell_type": "code",
      "metadata": {
        "colab": {
          "base_uri": "https://localhost:8080/",
          "height": 412
        },
        "id": "9p8dChRiDj78",
        "outputId": "421a094e-6eaf-4770-f6f0-1666c67958c8"
      },
      "source": [
        "dataset_2 = pd.read_csv('dados_s_out.csv',sep=';')\n",
        "dataset_2"
      ],
      "execution_count": null,
      "outputs": [
        {
          "output_type": "execute_result",
          "data": {
            "text/html": [
              "<div>\n",
              "<style scoped>\n",
              "    .dataframe tbody tr th:only-of-type {\n",
              "        vertical-align: middle;\n",
              "    }\n",
              "\n",
              "    .dataframe tbody tr th {\n",
              "        vertical-align: top;\n",
              "    }\n",
              "\n",
              "    .dataframe thead th {\n",
              "        text-align: right;\n",
              "    }\n",
              "</style>\n",
              "<table border=\"1\" class=\"dataframe\">\n",
              "  <thead>\n",
              "    <tr style=\"text-align: right;\">\n",
              "      <th></th>\n",
              "      <th>endereco</th>\n",
              "      <th>valor</th>\n",
              "      <th>area</th>\n",
              "      <th>quartos</th>\n",
              "      <th>vagas</th>\n",
              "      <th>banheiros</th>\n",
              "      <th>valor_m2</th>\n",
              "    </tr>\n",
              "  </thead>\n",
              "  <tbody>\n",
              "    <tr>\n",
              "      <th>0</th>\n",
              "      <td>Rua Cayowaá, 1258 - Perdizes, São Paulo - SP</td>\n",
              "      <td>1010000.0</td>\n",
              "      <td>110</td>\n",
              "      <td>3</td>\n",
              "      <td>1</td>\n",
              "      <td>3</td>\n",
              "      <td>9182.0</td>\n",
              "    </tr>\n",
              "    <tr>\n",
              "      <th>1</th>\n",
              "      <td>Rua Apinajés, 931 - Perdizes, São Paulo - SP</td>\n",
              "      <td>760000.0</td>\n",
              "      <td>67</td>\n",
              "      <td>2</td>\n",
              "      <td>2</td>\n",
              "      <td>2</td>\n",
              "      <td>11343.0</td>\n",
              "    </tr>\n",
              "    <tr>\n",
              "      <th>2</th>\n",
              "      <td>Rua Cardoso de Almeida, 978 - Perdizes, São Pa...</td>\n",
              "      <td>980000.0</td>\n",
              "      <td>117</td>\n",
              "      <td>3</td>\n",
              "      <td>1</td>\n",
              "      <td>4</td>\n",
              "      <td>8376.0</td>\n",
              "    </tr>\n",
              "    <tr>\n",
              "      <th>3</th>\n",
              "      <td>Rua dos Caetés, 878 - Perdizes, São Paulo - SP</td>\n",
              "      <td>600000.0</td>\n",
              "      <td>70</td>\n",
              "      <td>2</td>\n",
              "      <td>1</td>\n",
              "      <td>2</td>\n",
              "      <td>8571.0</td>\n",
              "    </tr>\n",
              "    <tr>\n",
              "      <th>4</th>\n",
              "      <td>Rua Diana, 649 - Perdizes, São Paulo - SP</td>\n",
              "      <td>950000.0</td>\n",
              "      <td>105</td>\n",
              "      <td>3</td>\n",
              "      <td>1</td>\n",
              "      <td>3</td>\n",
              "      <td>9048.0</td>\n",
              "    </tr>\n",
              "    <tr>\n",
              "      <th>...</th>\n",
              "      <td>...</td>\n",
              "      <td>...</td>\n",
              "      <td>...</td>\n",
              "      <td>...</td>\n",
              "      <td>...</td>\n",
              "      <td>...</td>\n",
              "      <td>...</td>\n",
              "    </tr>\n",
              "    <tr>\n",
              "      <th>3039</th>\n",
              "      <td>Rua Ministro Godói - Perdizes, São Paulo - SP</td>\n",
              "      <td>1590000.0</td>\n",
              "      <td>156</td>\n",
              "      <td>3</td>\n",
              "      <td>2</td>\n",
              "      <td>3</td>\n",
              "      <td>10192.0</td>\n",
              "    </tr>\n",
              "    <tr>\n",
              "      <th>3040</th>\n",
              "      <td>Rua Caraíbas - Perdizes, São Paulo - SP</td>\n",
              "      <td>990000.0</td>\n",
              "      <td>105</td>\n",
              "      <td>3</td>\n",
              "      <td>1</td>\n",
              "      <td>3</td>\n",
              "      <td>9429.0</td>\n",
              "    </tr>\n",
              "    <tr>\n",
              "      <th>3041</th>\n",
              "      <td>Rua Coronel Melo de Oliveira - Perdizes, São P...</td>\n",
              "      <td>1800000.0</td>\n",
              "      <td>143</td>\n",
              "      <td>3</td>\n",
              "      <td>4</td>\n",
              "      <td>5</td>\n",
              "      <td>12587.0</td>\n",
              "    </tr>\n",
              "    <tr>\n",
              "      <th>3042</th>\n",
              "      <td>Avenida Antártica - Perdizes, São Paulo - SP</td>\n",
              "      <td>550000.0</td>\n",
              "      <td>106</td>\n",
              "      <td>3</td>\n",
              "      <td>0</td>\n",
              "      <td>2</td>\n",
              "      <td>5189.0</td>\n",
              "    </tr>\n",
              "    <tr>\n",
              "      <th>3043</th>\n",
              "      <td>Perdizes, São Paulo - SP</td>\n",
              "      <td>2250000.0</td>\n",
              "      <td>214</td>\n",
              "      <td>4</td>\n",
              "      <td>2</td>\n",
              "      <td>3</td>\n",
              "      <td>10514.0</td>\n",
              "    </tr>\n",
              "  </tbody>\n",
              "</table>\n",
              "<p>3044 rows × 7 columns</p>\n",
              "</div>"
            ],
            "text/plain": [
              "                                               endereco  ...  valor_m2\n",
              "0          Rua Cayowaá, 1258 - Perdizes, São Paulo - SP  ...    9182.0\n",
              "1          Rua Apinajés, 931 - Perdizes, São Paulo - SP  ...   11343.0\n",
              "2     Rua Cardoso de Almeida, 978 - Perdizes, São Pa...  ...    8376.0\n",
              "3        Rua dos Caetés, 878 - Perdizes, São Paulo - SP  ...    8571.0\n",
              "4             Rua Diana, 649 - Perdizes, São Paulo - SP  ...    9048.0\n",
              "...                                                 ...  ...       ...\n",
              "3039      Rua Ministro Godói - Perdizes, São Paulo - SP  ...   10192.0\n",
              "3040            Rua Caraíbas - Perdizes, São Paulo - SP  ...    9429.0\n",
              "3041  Rua Coronel Melo de Oliveira - Perdizes, São P...  ...   12587.0\n",
              "3042       Avenida Antártica - Perdizes, São Paulo - SP  ...    5189.0\n",
              "3043                           Perdizes, São Paulo - SP  ...   10514.0\n",
              "\n",
              "[3044 rows x 7 columns]"
            ]
          },
          "metadata": {
            "tags": []
          },
          "execution_count": 56
        }
      ]
    },
    {
      "cell_type": "markdown",
      "metadata": {
        "id": "IA6FVJpnD7y_"
      },
      "source": [
        "### Excluindo dados onde banheiro/vagas/quartos não foram informados\n"
      ]
    },
    {
      "cell_type": "markdown",
      "metadata": {
        "id": "-K-1CUn8Ezqu"
      },
      "source": [
        ""
      ]
    },
    {
      "cell_type": "markdown",
      "metadata": {
        "id": "qjxFJC84FnQq"
      },
      "source": [
        "###numero de linhas antes da exclusao"
      ]
    },
    {
      "cell_type": "code",
      "metadata": {
        "colab": {
          "base_uri": "https://localhost:8080/"
        },
        "id": "bzu3fNaNEogR",
        "outputId": "9d06a077-d02a-4f7a-e90d-ebb52ba46be2"
      },
      "source": [
        "print('Numero de linhas do dataset é {}'.format(dataset_2.shape[0]))"
      ],
      "execution_count": null,
      "outputs": [
        {
          "output_type": "stream",
          "text": [
            "Numero de linhas do dataset é 3044\n"
          ],
          "name": "stdout"
        }
      ]
    },
    {
      "cell_type": "code",
      "metadata": {
        "id": "utfHp_KkEIpn"
      },
      "source": [
        "dados = dataset_2[(dataset_2['valor']!=0)&(dataset_2['quartos']!=0) & (dataset_2['vagas']!=0)&(dataset_2['banheiros']!=0) ]"
      ],
      "execution_count": null,
      "outputs": []
    },
    {
      "cell_type": "markdown",
      "metadata": {
        "id": "gkqUOANRFf_Q"
      },
      "source": [
        "###numero de linhas após a exclusao\n"
      ]
    },
    {
      "cell_type": "code",
      "metadata": {
        "colab": {
          "base_uri": "https://localhost:8080/"
        },
        "id": "n-B_oK6hFWZM",
        "outputId": "777481e3-48d1-4ea4-b26a-e50e70b95ee9"
      },
      "source": [
        "print('Numero de linhas do dataset é {}'.format(dados.shape[0]))"
      ],
      "execution_count": null,
      "outputs": [
        {
          "output_type": "stream",
          "text": [
            "Numero de linhas do dataset é 2891\n"
          ],
          "name": "stdout"
        }
      ]
    },
    {
      "cell_type": "code",
      "metadata": {
        "colab": {
          "base_uri": "https://localhost:8080/",
          "height": 201
        },
        "id": "ytnTF3aMAaMn",
        "outputId": "34f988f8-8960-47c8-ed8e-35c593a1761f"
      },
      "source": [
        "dados.head()"
      ],
      "execution_count": null,
      "outputs": [
        {
          "output_type": "execute_result",
          "data": {
            "text/html": [
              "<div>\n",
              "<style scoped>\n",
              "    .dataframe tbody tr th:only-of-type {\n",
              "        vertical-align: middle;\n",
              "    }\n",
              "\n",
              "    .dataframe tbody tr th {\n",
              "        vertical-align: top;\n",
              "    }\n",
              "\n",
              "    .dataframe thead th {\n",
              "        text-align: right;\n",
              "    }\n",
              "</style>\n",
              "<table border=\"1\" class=\"dataframe\">\n",
              "  <thead>\n",
              "    <tr style=\"text-align: right;\">\n",
              "      <th></th>\n",
              "      <th>endereco</th>\n",
              "      <th>valor</th>\n",
              "      <th>area</th>\n",
              "      <th>quartos</th>\n",
              "      <th>vagas</th>\n",
              "      <th>banheiros</th>\n",
              "      <th>valor_m2</th>\n",
              "    </tr>\n",
              "  </thead>\n",
              "  <tbody>\n",
              "    <tr>\n",
              "      <th>0</th>\n",
              "      <td>Rua Cayowaá, 1258 - Perdizes, São Paulo - SP</td>\n",
              "      <td>1010000.0</td>\n",
              "      <td>110</td>\n",
              "      <td>3</td>\n",
              "      <td>1</td>\n",
              "      <td>3</td>\n",
              "      <td>9182.0</td>\n",
              "    </tr>\n",
              "    <tr>\n",
              "      <th>1</th>\n",
              "      <td>Rua Apinajés, 931 - Perdizes, São Paulo - SP</td>\n",
              "      <td>760000.0</td>\n",
              "      <td>67</td>\n",
              "      <td>2</td>\n",
              "      <td>2</td>\n",
              "      <td>2</td>\n",
              "      <td>11343.0</td>\n",
              "    </tr>\n",
              "    <tr>\n",
              "      <th>2</th>\n",
              "      <td>Rua Cardoso de Almeida, 978 - Perdizes, São Pa...</td>\n",
              "      <td>980000.0</td>\n",
              "      <td>117</td>\n",
              "      <td>3</td>\n",
              "      <td>1</td>\n",
              "      <td>4</td>\n",
              "      <td>8376.0</td>\n",
              "    </tr>\n",
              "    <tr>\n",
              "      <th>3</th>\n",
              "      <td>Rua dos Caetés, 878 - Perdizes, São Paulo - SP</td>\n",
              "      <td>600000.0</td>\n",
              "      <td>70</td>\n",
              "      <td>2</td>\n",
              "      <td>1</td>\n",
              "      <td>2</td>\n",
              "      <td>8571.0</td>\n",
              "    </tr>\n",
              "    <tr>\n",
              "      <th>4</th>\n",
              "      <td>Rua Diana, 649 - Perdizes, São Paulo - SP</td>\n",
              "      <td>950000.0</td>\n",
              "      <td>105</td>\n",
              "      <td>3</td>\n",
              "      <td>1</td>\n",
              "      <td>3</td>\n",
              "      <td>9048.0</td>\n",
              "    </tr>\n",
              "  </tbody>\n",
              "</table>\n",
              "</div>"
            ],
            "text/plain": [
              "                                            endereco  ...  valor_m2\n",
              "0       Rua Cayowaá, 1258 - Perdizes, São Paulo - SP  ...    9182.0\n",
              "1       Rua Apinajés, 931 - Perdizes, São Paulo - SP  ...   11343.0\n",
              "2  Rua Cardoso de Almeida, 978 - Perdizes, São Pa...  ...    8376.0\n",
              "3     Rua dos Caetés, 878 - Perdizes, São Paulo - SP  ...    8571.0\n",
              "4          Rua Diana, 649 - Perdizes, São Paulo - SP  ...    9048.0\n",
              "\n",
              "[5 rows x 7 columns]"
            ]
          },
          "metadata": {
            "tags": []
          },
          "execution_count": 60
        }
      ]
    },
    {
      "cell_type": "markdown",
      "metadata": {
        "id": "jTSqHP0uA6gn"
      },
      "source": [
        "Numero de banheiros\n"
      ]
    },
    {
      "cell_type": "markdown",
      "metadata": {
        "id": "XDOgeWcDBINy"
      },
      "source": [
        "** Visualmente sim, o valor do imovel aumenta conforme a quantidade banheiros"
      ]
    },
    {
      "cell_type": "code",
      "metadata": {
        "colab": {
          "base_uri": "https://localhost:8080/",
          "height": 400
        },
        "id": "AFTB8hIRGMDn",
        "outputId": "1debd92e-8010-451b-d3ef-c06a7fd7cb53"
      },
      "source": [
        "sns.relplot(x='banheiros',y='valor',kind='line', data=dados)"
      ],
      "execution_count": null,
      "outputs": [
        {
          "output_type": "execute_result",
          "data": {
            "text/plain": [
              "<seaborn.axisgrid.FacetGrid at 0x7faab3132b10>"
            ]
          },
          "metadata": {
            "tags": []
          },
          "execution_count": 61
        },
        {
          "output_type": "display_data",
          "data": {
            "image/png": "[encoded data removed]",
            "text/plain": [
              "<Figure size 360x360 with 1 Axes>"
            ]
          },
          "metadata": {
            "tags": [],
            "needs_background": "light"
          }
        }
      ]
    },
    {
      "cell_type": "markdown",
      "metadata": {
        "id": "8krGeaibHyAz"
      },
      "source": [
        ""
      ]
    },
    {
      "cell_type": "code",
      "metadata": {
        "colab": {
          "base_uri": "https://localhost:8080/",
          "height": 400
        },
        "id": "ZGxM9afaJ8PD",
        "outputId": "a0553a66-410b-4854-f442-3b08d60eaedb"
      },
      "source": [
        "sns.relplot(x='quartos',y='valor',kind='line', data=dados)"
      ],
      "execution_count": null,
      "outputs": [
        {
          "output_type": "execute_result",
          "data": {
            "text/plain": [
              "<seaborn.axisgrid.FacetGrid at 0x7faab30b7c90>"
            ]
          },
          "metadata": {
            "tags": []
          },
          "execution_count": 62
        },
        {
          "output_type": "display_data",
          "data": {
            "image/png": "[encoded data removed]",
            "text/plain": [
              "<Figure size 360x360 with 1 Axes>"
            ]
          },
          "metadata": {
            "tags": [],
            "needs_background": "light"
          }
        }
      ]
    },
    {
      "cell_type": "code",
      "metadata": {
        "colab": {
          "base_uri": "https://localhost:8080/",
          "height": 400
        },
        "id": "Vs2WfWXhIBPm",
        "outputId": "01318b83-8417-4118-f647-329e397e3b21"
      },
      "source": [
        "sns.relplot(x='vagas',y='valor',kind='line', data=dados)"
      ],
      "execution_count": null,
      "outputs": [
        {
          "output_type": "execute_result",
          "data": {
            "text/plain": [
              "<seaborn.axisgrid.FacetGrid at 0x7faab2edd590>"
            ]
          },
          "metadata": {
            "tags": []
          },
          "execution_count": 63
        },
        {
          "output_type": "display_data",
          "data": {
            "image/png": "[encoded data removed]",
            "text/plain": [
              "<Figure size 360x360 with 1 Axes>"
            ]
          },
          "metadata": {
            "tags": [],
            "needs_background": "light"
          }
        }
      ]
    },
    {
      "cell_type": "markdown",
      "metadata": {
        "id": "XBsLg4ZxKHJB"
      },
      "source": [
        "##Visualmente a quantidade de quartos/banheiros/vagas é proporcional ao preço,\n",
        "###Mas acredito que isso, tenha mais relação com a quantidade de area, do que a quantidade/tipos de comodos.\n",
        "\n",
        "\n"
      ]
    },
    {
      "cell_type": "markdown",
      "metadata": {
        "id": "rbfZTrGbL64x"
      },
      "source": [
        "#Analise sobre o valor por metro quadrado"
      ]
    },
    {
      "cell_type": "markdown",
      "metadata": {
        "id": "okgiITA-L_5E"
      },
      "source": [
        "##Para confirmar a analise acima vamos verificar a quantidade banheiro/vagas/quartos em função valor do metro quadrado dos imoveis"
      ]
    },
    {
      "cell_type": "code",
      "metadata": {
        "colab": {
          "base_uri": "https://localhost:8080/",
          "height": 624
        },
        "id": "qKj2x9piLlt8",
        "outputId": "b75d92b2-ffdb-446c-bfff-c6b05d5daebc"
      },
      "source": [
        "sns.scatterplot(x='banheiros',y='valor_m2', data=dados)"
      ],
      "execution_count": null,
      "outputs": [
        {
          "output_type": "execute_result",
          "data": {
            "text/plain": [
              "<matplotlib.axes._subplots.AxesSubplot at 0x7faab2e55c90>"
            ]
          },
          "metadata": {
            "tags": []
          },
          "execution_count": 64
        },
        {
          "output_type": "display_data",
          "data": {
            "image/png": "[encoded data removed]",
            "text/plain": [
              "<Figure size 1440x720 with 1 Axes>"
            ]
          },
          "metadata": {
            "tags": [],
            "needs_background": "light"
          }
        }
      ]
    },
    {
      "cell_type": "code",
      "metadata": {
        "colab": {
          "base_uri": "https://localhost:8080/",
          "height": 624
        },
        "id": "JXshxSwFLlgP",
        "outputId": "eaebceb2-587b-4de2-aae1-1407fcdc51ce"
      },
      "source": [
        "sns.scatterplot(x='quartos',y='valor_m2', data=dados)"
      ],
      "execution_count": null,
      "outputs": [
        {
          "output_type": "execute_result",
          "data": {
            "text/plain": [
              "<matplotlib.axes._subplots.AxesSubplot at 0x7faab348df90>"
            ]
          },
          "metadata": {
            "tags": []
          },
          "execution_count": 65
        },
        {
          "output_type": "display_data",
          "data": {
            "image/png": "[encoded data removed]",
            "text/plain": [
              "<Figure size 1440x720 with 1 Axes>"
            ]
          },
          "metadata": {
            "tags": [],
            "needs_background": "light"
          }
        }
      ]
    },
    {
      "cell_type": "code",
      "metadata": {
        "colab": {
          "base_uri": "https://localhost:8080/",
          "height": 624
        },
        "id": "GQSIO_DsKBxO",
        "outputId": "79d1290a-2087-4dd4-e1ff-2f2abc5cd03a"
      },
      "source": [
        "sns.scatterplot(x='vagas',y='valor_m2', data=dados)"
      ],
      "execution_count": null,
      "outputs": [
        {
          "output_type": "execute_result",
          "data": {
            "text/plain": [
              "<matplotlib.axes._subplots.AxesSubplot at 0x7faab3208490>"
            ]
          },
          "metadata": {
            "tags": []
          },
          "execution_count": 66
        },
        {
          "output_type": "display_data",
          "data": {
            "image/png": "[encoded data removed]",
            "text/plain": [
              "<Figure size 1440x720 with 1 Axes>"
            ]
          },
          "metadata": {
            "tags": [],
            "needs_background": "light"
          }
        }
      ]
    },
    {
      "cell_type": "markdown",
      "metadata": {
        "id": "aBePKKBiMZ2E"
      },
      "source": [
        "##**Visivelmente não existe relação entre o valor do m² do imovel e quantidade de banheiro/quartos/vagas"
      ]
    },
    {
      "cell_type": "code",
      "metadata": {
        "colab": {
          "base_uri": "https://localhost:8080/",
          "height": 201
        },
        "id": "udTNGeZ0MYK2",
        "outputId": "ba4dbaea-c3fe-464c-8cb4-b7e8172845a6"
      },
      "source": [
        "dados.head()"
      ],
      "execution_count": null,
      "outputs": [
        {
          "output_type": "execute_result",
          "data": {
            "text/html": [
              "<div>\n",
              "<style scoped>\n",
              "    .dataframe tbody tr th:only-of-type {\n",
              "        vertical-align: middle;\n",
              "    }\n",
              "\n",
              "    .dataframe tbody tr th {\n",
              "        vertical-align: top;\n",
              "    }\n",
              "\n",
              "    .dataframe thead th {\n",
              "        text-align: right;\n",
              "    }\n",
              "</style>\n",
              "<table border=\"1\" class=\"dataframe\">\n",
              "  <thead>\n",
              "    <tr style=\"text-align: right;\">\n",
              "      <th></th>\n",
              "      <th>endereco</th>\n",
              "      <th>valor</th>\n",
              "      <th>area</th>\n",
              "      <th>quartos</th>\n",
              "      <th>vagas</th>\n",
              "      <th>banheiros</th>\n",
              "      <th>valor_m2</th>\n",
              "    </tr>\n",
              "  </thead>\n",
              "  <tbody>\n",
              "    <tr>\n",
              "      <th>0</th>\n",
              "      <td>Rua Cayowaá, 1258 - Perdizes, São Paulo - SP</td>\n",
              "      <td>1010000.0</td>\n",
              "      <td>110</td>\n",
              "      <td>3</td>\n",
              "      <td>1</td>\n",
              "      <td>3</td>\n",
              "      <td>9182.0</td>\n",
              "    </tr>\n",
              "    <tr>\n",
              "      <th>1</th>\n",
              "      <td>Rua Apinajés, 931 - Perdizes, São Paulo - SP</td>\n",
              "      <td>760000.0</td>\n",
              "      <td>67</td>\n",
              "      <td>2</td>\n",
              "      <td>2</td>\n",
              "      <td>2</td>\n",
              "      <td>11343.0</td>\n",
              "    </tr>\n",
              "    <tr>\n",
              "      <th>2</th>\n",
              "      <td>Rua Cardoso de Almeida, 978 - Perdizes, São Pa...</td>\n",
              "      <td>980000.0</td>\n",
              "      <td>117</td>\n",
              "      <td>3</td>\n",
              "      <td>1</td>\n",
              "      <td>4</td>\n",
              "      <td>8376.0</td>\n",
              "    </tr>\n",
              "    <tr>\n",
              "      <th>3</th>\n",
              "      <td>Rua dos Caetés, 878 - Perdizes, São Paulo - SP</td>\n",
              "      <td>600000.0</td>\n",
              "      <td>70</td>\n",
              "      <td>2</td>\n",
              "      <td>1</td>\n",
              "      <td>2</td>\n",
              "      <td>8571.0</td>\n",
              "    </tr>\n",
              "    <tr>\n",
              "      <th>4</th>\n",
              "      <td>Rua Diana, 649 - Perdizes, São Paulo - SP</td>\n",
              "      <td>950000.0</td>\n",
              "      <td>105</td>\n",
              "      <td>3</td>\n",
              "      <td>1</td>\n",
              "      <td>3</td>\n",
              "      <td>9048.0</td>\n",
              "    </tr>\n",
              "  </tbody>\n",
              "</table>\n",
              "</div>"
            ],
            "text/plain": [
              "                                            endereco  ...  valor_m2\n",
              "0       Rua Cayowaá, 1258 - Perdizes, São Paulo - SP  ...    9182.0\n",
              "1       Rua Apinajés, 931 - Perdizes, São Paulo - SP  ...   11343.0\n",
              "2  Rua Cardoso de Almeida, 978 - Perdizes, São Pa...  ...    8376.0\n",
              "3     Rua dos Caetés, 878 - Perdizes, São Paulo - SP  ...    8571.0\n",
              "4          Rua Diana, 649 - Perdizes, São Paulo - SP  ...    9048.0\n",
              "\n",
              "[5 rows x 7 columns]"
            ]
          },
          "metadata": {
            "tags": []
          },
          "execution_count": 67
        }
      ]
    },
    {
      "cell_type": "code",
      "metadata": {
        "id": "nzMcqTQsLIBK"
      },
      "source": [
        ""
      ],
      "execution_count": null,
      "outputs": []
    }
  ]
}